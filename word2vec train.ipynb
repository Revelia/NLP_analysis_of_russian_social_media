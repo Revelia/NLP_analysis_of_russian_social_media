{
 "cells": [
  {
   "cell_type": "code",
   "execution_count": 1,
   "id": "01bafe6e",
   "metadata": {},
   "outputs": [],
   "source": [
    "from tqdm import tqdm\n",
    "import pandas as pd\n",
    "import numpy as np\n",
    "from gensim.models import Word2Vec"
   ]
  },
  {
   "cell_type": "code",
   "execution_count": 2,
   "id": "7123f16b",
   "metadata": {},
   "outputs": [
    {
     "data": {
      "text/plain": [
       "474835"
      ]
     },
     "execution_count": 2,
     "metadata": {},
     "output_type": "execute_result"
    }
   ],
   "source": [
    "with open('data//norm_text_colloc.txt') as f:\n",
    "    lines = f.read().splitlines()\n",
    "len(lines)"
   ]
  },
  {
   "cell_type": "code",
   "execution_count": 3,
   "id": "9badc10b",
   "metadata": {},
   "outputs": [
    {
     "data": {
      "text/plain": [
       "414191"
      ]
     },
     "execution_count": 3,
     "metadata": {},
     "output_type": "execute_result"
    }
   ],
   "source": [
    "good_lines = [line for line in lines if len(line) > 300]\n",
    "len(good_lines)"
   ]
  },
  {
   "cell_type": "code",
   "execution_count": 4,
   "id": "9921c386",
   "metadata": {},
   "outputs": [
    {
     "name": "stderr",
     "output_type": "stream",
     "text": [
      "100%|██████████| 414191/414191 [00:59<00:00, 6931.86it/s] \n"
     ]
    }
   ],
   "source": [
    "data = [line.split(' ') for line in tqdm(good_lines)]"
   ]
  },
  {
   "cell_type": "code",
   "execution_count": null,
   "id": "8d06f65e",
   "metadata": {},
   "outputs": [],
   "source": [
    "model = Word2Vec(min_count=75, window=10, vector_size=300, negative=10, alpha=0.03, min_alpha=0.0007, sample=6e-5, sg=1, workers=4)\n",
    "model.build_vocab(data)"
   ]
  },
  {
   "cell_type": "code",
   "execution_count": null,
   "id": "227fb4e8",
   "metadata": {},
   "outputs": [],
   "source": [
    "model.train(data, total_examples=w2v_model.corpus_count, epochs=30, report_delay=1)"
   ]
  },
  {
   "cell_type": "code",
   "execution_count": 5,
   "id": "3968d7f8",
   "metadata": {},
   "outputs": [
    {
     "ename": "NameError",
     "evalue": "name 'model' is not defined",
     "output_type": "error",
     "traceback": [
      "\u001b[1;31m---------------------------------------------------------------------------\u001b[0m",
      "\u001b[1;31mNameError\u001b[0m                                 Traceback (most recent call last)",
      "Cell \u001b[1;32mIn[5], line 1\u001b[0m\n\u001b[1;32m----> 1\u001b[0m \u001b[43mmodel\u001b[49m\u001b[38;5;241m.\u001b[39msave(\u001b[38;5;124m\"\u001b[39m\u001b[38;5;124mdata//models//w2v_model_w9m30.model\u001b[39m\u001b[38;5;124m\"\u001b[39m)\n",
      "\u001b[1;31mNameError\u001b[0m: name 'model' is not defined"
     ]
    }
   ],
   "source": [
    "model.save(\"data//models//w2v_model_w9m30.model\")"
   ]
  },
  {
   "cell_type": "code",
   "execution_count": null,
   "id": "412a527a",
   "metadata": {},
   "outputs": [],
   "source": [
    "model.wv.most_similar(positive=[\"деньга\"], topn=30)"
   ]
  }
 ],
 "metadata": {
  "kernelspec": {
   "display_name": "Python 3 (ipykernel)",
   "language": "python",
   "name": "python3"
  },
  "language_info": {
   "codemirror_mode": {
    "name": "ipython",
    "version": 3
   },
   "file_extension": ".py",
   "mimetype": "text/x-python",
   "name": "python",
   "nbconvert_exporter": "python",
   "pygments_lexer": "ipython3",
   "version": "3.10.9"
  }
 },
 "nbformat": 4,
 "nbformat_minor": 5
}
