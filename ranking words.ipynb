{
 "cells": [
  {
   "cell_type": "code",
   "execution_count": 44,
   "id": "737a2098",
   "metadata": {},
   "outputs": [],
   "source": [
    "from tqdm import tqdm\n",
    "import pandas as pd\n",
    "import numpy as np\n",
    "import gensim\n",
    "import pymorphy2\n",
    "morph = pymorphy2.MorphAnalyzer()"
   ]
  },
  {
   "cell_type": "code",
   "execution_count": 45,
   "id": "eab31816",
   "metadata": {},
   "outputs": [
    {
     "name": "stdout",
     "output_type": "stream",
     "text": [
      "['мужчина', 'женщина']\n",
      "['он', 'она']\n",
      "['парень', 'девушка']\n",
      "['мальчик', 'девочка']\n",
      "['отец', 'мать']\n",
      "['мужской', 'женский']\n"
     ]
    }
   ],
   "source": [
    "import re\n",
    "model = gensim.models.Word2Vec.load(\"data//models//w2v_model_w9m30.model\")\n",
    "with open('data//pairs_gender.txt' , encoding = 'utf-8') as f:\n",
    "    pairs = f.readlines()\n",
    "\n",
    "dif = np.zeros(300)\n",
    "for line in pairs:\n",
    "    pair = re.sub(\"[^а-я ]\", \"\", line).split(' ')\n",
    "    print(pair)\n",
    "    positive_word = pair[0]\n",
    "    negative_word = pair[1]\n",
    "    dif = dif + model.wv[model.wv.key_to_index[positive_word] ] - model.wv[model.wv.key_to_index[negative_word]]"
   ]
  },
  {
   "cell_type": "code",
   "execution_count": 46,
   "id": "bf863a78",
   "metadata": {},
   "outputs": [],
   "source": [
    "def ranking_score(model, word, dif):\n",
    "    word = model.wv[model.wv.key_to_index[word]]\n",
    "    projection_value = np.dot(word, dif) /( np.linalg.norm(dif))\n",
    "    return projection_value\n",
    "\n",
    "def ranking_score_cosine(model, word, dif):\n",
    "    word = model.wv[model.wv.key_to_index[word]]\n",
    "    projection_value = np.dot(word, dif) /( np.linalg.norm(dif)*np.linalg.norm(word))\n",
    "    return projection_value"
   ]
  },
  {
   "cell_type": "code",
   "execution_count": 47,
   "id": "5e4f853f",
   "metadata": {},
   "outputs": [],
   "source": [
    "def normalize_words(words_list):\n",
    "    norm_list = []\n",
    "    for word in words_list:\n",
    "        p = morph.parse(word.lower())[0]\n",
    "        norm_list.append(p.normal_form)\n",
    "    return norm_list"
   ]
  },
  {
   "cell_type": "code",
   "execution_count": 48,
   "id": "6d091448",
   "metadata": {},
   "outputs": [],
   "source": [
    "def words_rank(model, words_list, dif):\n",
    "    ranking_res = []\n",
    "    for word in words_list:\n",
    "        score = ranking_score(model, word, dif)\n",
    "        ranking_res.append((word, score))\n",
    "    return sorted(ranking_res, key=lambda x: x[1])"
   ]
  },
  {
   "cell_type": "code",
   "execution_count": 49,
   "id": "7759e0d0",
   "metadata": {},
   "outputs": [
    {
     "name": "stdout",
     "output_type": "stream",
     "text": [
      "['материнство', 'женщина', 'девочка', 'нумерология', 'эзотерика', 'астролог', 'психолог', 'психотерапия', 'платье', 'таролог', 'астрология', 'кухня', 'таро', 'психология', 'бизнес', 'миллионер', 'заработок', 'богатство', 'богатый', 'деньга', 'футбол', 'баскетбол', 'зарплата', 'пожарный', 'мужчина', 'психотерапевт', 'мальчик']\n"
     ]
    }
   ],
   "source": [
    "with open('data//words_to_rank.txt' , encoding = 'ANSI') as f:\n",
    "    words_list = f.readlines()[0].split(' ')\n",
    "print(words_list)"
   ]
  },
  {
   "cell_type": "code",
   "execution_count": 50,
   "id": "a1c1bba0",
   "metadata": {},
   "outputs": [
    {
     "data": {
      "text/plain": [
       "[('материнство', -0.9669663206474277),\n",
       " ('женщина', -0.46714358039440207),\n",
       " ('девочка', -0.4443107050381663),\n",
       " ('таролог', -0.37463429148574573),\n",
       " ('нумерология', -0.32061087914278796),\n",
       " ('астролог', -0.3067263163253954),\n",
       " ('таро', -0.2611251304267806),\n",
       " ('платье', -0.25193589709554154),\n",
       " ('астрология', -0.24368514284186213),\n",
       " ('психолог', -0.21524620856238216),\n",
       " ('эзотерика', -0.2086764764696825),\n",
       " ('бизнес', -0.10458448249145634),\n",
       " ('кухня', -0.028796285044676895),\n",
       " ('психология', -0.019679674749069814),\n",
       " ('заработок', 0.017778002352894083),\n",
       " ('психотерапия', 0.017905874135632265),\n",
       " ('психотерапевт', 0.10585297999540388),\n",
       " ('богатство', 0.11050171708163187),\n",
       " ('деньга', 0.11069552293730156),\n",
       " ('богатый', 0.21835992244331037),\n",
       " ('зарплата', 0.23999112320361504),\n",
       " ('футбол', 0.28544291703301894),\n",
       " ('миллионер', 0.3106327777704206),\n",
       " ('мужчина', 0.4992537778390033),\n",
       " ('баскетбол', 0.5164509258986895),\n",
       " ('пожарный', 0.7669169178268989),\n",
       " ('мальчик', 1.1549872692919922)]"
      ]
     },
     "execution_count": 50,
     "metadata": {},
     "output_type": "execute_result"
    }
   ],
   "source": [
    "norm_words = normalize_words(words_list)\n",
    "words_rank(model, norm_words, dif)"
   ]
  },
  {
   "cell_type": "code",
   "execution_count": null,
   "id": "29ab8a76",
   "metadata": {},
   "outputs": [],
   "source": []
  }
 ],
 "metadata": {
  "kernelspec": {
   "display_name": "Python 3 (ipykernel)",
   "language": "python",
   "name": "python3"
  },
  "language_info": {
   "codemirror_mode": {
    "name": "ipython",
    "version": 3
   },
   "file_extension": ".py",
   "mimetype": "text/x-python",
   "name": "python",
   "nbconvert_exporter": "python",
   "pygments_lexer": "ipython3",
   "version": "3.10.9"
  }
 },
 "nbformat": 4,
 "nbformat_minor": 5
}
