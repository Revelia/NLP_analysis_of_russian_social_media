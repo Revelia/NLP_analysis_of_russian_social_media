{
 "cells": [
  {
   "cell_type": "code",
   "execution_count": 2,
   "id": "7bf1d0c7",
   "metadata": {},
   "outputs": [],
   "source": [
    "import pandas as pd\n",
    "import nltk\n",
    "import pymorphy2\n",
    "import numpy as np\n",
    "from sklearn.feature_extraction.text import TfidfVectorizer\n",
    "from gensim import corpora, models\n",
    "import re\n",
    "from nltk.corpus import stopwords\n",
    "import matplotlib.pyplot as plt\n",
    "import matplotlib.cm as cm\n",
    "import time\n",
    "import time\n",
    "from tqdm import tqdm"
   ]
  },
  {
   "cell_type": "code",
   "execution_count": 3,
   "id": "35c2d524",
   "metadata": {},
   "outputs": [],
   "source": [
    "from natasha import (\n",
    "    Segmenter,\n",
    "    MorphVocab,\n",
    "    \n",
    "    NewsEmbedding,\n",
    "    NewsMorphTagger,\n",
    "    NewsSyntaxParser,\n",
    "    NewsNERTagger,\n",
    "    PER,\n",
    "    NamesExtractor,\n",
    "    Doc\n",
    ")\n",
    "\n",
    "segmenter = Segmenter()\n",
    "morph_vocab = MorphVocab()\n",
    "emb = NewsEmbedding()\n",
    "morph_tagger = NewsMorphTagger(emb)\n",
    "syntax_parser = NewsSyntaxParser(emb)\n",
    "ner_tagger = NewsNERTagger(emb)\n",
    "names_extractor = NamesExtractor(morph_vocab)"
   ]
  },
  {
   "cell_type": "code",
   "execution_count": 12,
   "id": "b2f33e4d",
   "metadata": {},
   "outputs": [],
   "source": [
    "data = pd.read_json('data\\\\prof_rost.json')"
   ]
  },
  {
   "cell_type": "code",
   "execution_count": 13,
   "id": "164f12e2",
   "metadata": {},
   "outputs": [
    {
     "name": "stdout",
     "output_type": "stream",
     "text": [
      "--- 37.98272395133972 seconds ---\n"
     ]
    }
   ],
   "source": [
    "start_time = time.time()\n",
    "texts_df = data[\"text\"].fillna(\"\") \\\n",
    "    .astype(\"string\").replace(to_replace='\\n', value=' ',regex=True) \\\n",
    "    .replace(to_replace='\\.', value=' ',regex=True).apply(lambda x: re.sub('[^# а-яА-Я]', '', x))\n",
    "print(\"--- %s seconds ---\" % (time.time() - start_time))"
   ]
  },
  {
   "cell_type": "code",
   "execution_count": 14,
   "id": "824f2c1b",
   "metadata": {},
   "outputs": [],
   "source": [
    "def separate_hashtags(text):\n",
    "    pure_text = []\n",
    "    hashtags = []\n",
    "    for word in text.split(' '):\n",
    "        if len(word) > 0:\n",
    "            #f word[0] != '#':\n",
    "            if '#' not in word:\n",
    "                pure_text.append(word)\n",
    "           # else:\n",
    "            #    hashtags.append(word)\n",
    "    return pure_text #, hashtags\n",
    "\n",
    "\n",
    "import pymorphy2\n",
    "morph = pymorphy2.MorphAnalyzer()\n",
    "def natasha_lem(text_list):\n",
    "    \n",
    "    lem_text = []\n",
    "    for word in text_list:\n",
    "        p = morph.parse(word)[0]\n",
    "        lem_text.append(p.normal_form)\n",
    "    with open(r'normalized_texts.txt', 'a') as fp:\n",
    "        fp.write(' '.join(lem_text))\n",
    "        fp.write('\\n')\n",
    "    return lem_text\n",
    "        "
   ]
  },
  {
   "cell_type": "code",
   "execution_count": 16,
   "id": "cce85179",
   "metadata": {},
   "outputs": [
    {
     "data": {
      "application/vnd.jupyter.widget-view+json": {
       "model_id": "0cc91a29db9b44ee96c88e249a496e36",
       "version_major": 2,
       "version_minor": 0
      },
      "text/plain": [
       "  0%|          | 0/474835 [00:00<?, ?it/s]"
      ]
     },
     "metadata": {},
     "output_type": "display_data"
    },
    {
     "name": "stdout",
     "output_type": "stream",
     "text": [
      "--- 71.18436193466187 seconds ---\n"
     ]
    },
    {
     "data": {
      "text/plain": [
       "0         [Главное, основные, качеств, предпринимателя, ...\n",
       "1         [Сегодня, улыбнуло, когда, увидела, Текст, на,...\n",
       "2         [Удачного, и, счастливого, нам, дня, Для, того...\n",
       "3         [Не, прошло, и, пару, месяцев, с, тех, пор, ка...\n",
       "4         [Тренинг, личностного, роста, Развитие, мелкой...\n",
       "                                ...                        \n",
       "474830    [ЭТО, ТО, ЧТО, НУЖНО, КАЖДОМУ, Подарок, которы...\n",
       "474831    [ВНИМАНИЕ, МОДЕЛЬНОЕ, АГЕНТСТВО, ТАТЬЯНЫ, ЖИЛИ...\n",
       "474832    [Анна, как, выбрать, чем, заниматься, Вопрос, ...\n",
       "474833    [Зачастую, мы, идем, к, холодильнику, от, нече...\n",
       "474834    [пройдет, курс, педикюр, идеальное, покрытие, ...\n",
       "Name: text, Length: 474835, dtype: object"
      ]
     },
     "execution_count": 16,
     "metadata": {},
     "output_type": "execute_result"
    }
   ],
   "source": [
    "start_time = time.time()\n",
    "text_pure= texts_df.progress_apply(separate_hashtags)\n",
    "\n",
    "print(\"--- %s seconds ---\" % (time.time() - start_time))\n",
    "text_pure"
   ]
  },
  {
   "cell_type": "code",
   "execution_count": 18,
   "id": "89b1cd99",
   "metadata": {},
   "outputs": [
    {
     "data": {
      "application/vnd.jupyter.widget-view+json": {
       "model_id": "4bfeea804e06488890bc10c356a311b0",
       "version_major": 2,
       "version_minor": 0
      },
      "text/plain": [
       "  0%|          | 0/474835 [00:00<?, ?it/s]"
      ]
     },
     "metadata": {},
     "output_type": "display_data"
    },
    {
     "name": "stdout",
     "output_type": "stream",
     "text": [
      "--- 50005.58027887344 seconds ---\n"
     ]
    }
   ],
   "source": [
    "start_time = time.time()\n",
    "lem_texts= text_pure.progress_apply(natasha_lem)\n",
    "print(\"--- %s seconds ---\" % (time.time() - start_time))"
   ]
  },
  {
   "cell_type": "code",
   "execution_count": 2,
   "id": "0074b301",
   "metadata": {},
   "outputs": [
    {
     "data": {
      "text/plain": [
       "474835"
      ]
     },
     "execution_count": 2,
     "metadata": {},
     "output_type": "execute_result"
    }
   ],
   "source": [
    "with open('normalized_texts.txt') as f:\n",
    "    lines = f.read().splitlines()\n",
    "len(lines)"
   ]
  },
  {
   "cell_type": "code",
   "execution_count": 3,
   "id": "b7303871",
   "metadata": {},
   "outputs": [
    {
     "data": {
      "text/plain": [
       "'главное основной качество предприниматель это скорость принятие решение эксперт ли я очень любить учиться однако при выбор обучение я ни раз сталкиваться с тем что больший часть курс вода или то что я уже знать эксперт действительно иметь большой опыт в тот что преподата но являться плохой оратор и поэтому он речь путанна как и подача материал в общий если ты много знать это ещ не значит что ты хороший учитель некоторый эксперт восхищаться сотня человек но они банально я не заходить например рыбак не смочь заинтересовать я ни на один из офлайн встреча хотя он копирайтер писать просто божественный продавать текст на он рекламный пост и самый обидный когда эксперт не иметь практически опыт и образование но прошлый курс как стать эксперт и стать они не быть озвучивать имя но есть у я один знакомый у который разориться собственный бизнес но он прошлый обучение как разбирать чужой бизнес и теперь делать деньга на это ну или пытаться поэтому я перед покупка любой курс стараться как можно большой узнать о эксперт я важно доверять тот кто быть надо я работать так как эксперт сейчас найти достаточно сложно делиться тем кто уже найти татьяна мифтахов психолог бизнес трекер и просто интересный женщина не быть копипастить она пост о себя тут она конечно же написать большой и хороший я поэтому если интересно читать она я же написать коротко свой слово татьяна иметь несколько высокий образование в так ч психологический пройти множество различный курс провести множество различный курс быть владелица разный успешный бизнес никогда не перестат учиться уверить что обучать другой это она призвание у она множество положительный и благодарный отзыв от человек мнение который я доверять и сейчас я заниматься с она работа над себя в она новый проект вирус счастие он безоплатный так быть бесплатный в формат лекция каждый пт в в телеграм есть домашний задание не сложный по сравнить мы обещать ввести ещ и практика я думать что это отличный возможность познакомиться с татьяна как с эксперт по психология и хороший познакомиться с себя без лишний слово на прошлый лекция мы изучать понятие характер и темперамент татьяна посоветовать мы проверить тест так вот по первый тест я сангвиник холерик флегматик меланхолик по второй я ваш результат экстраверт и ваш тип темперамент сангвиник по шкала интроверсииэкстраверсия набрать по шкала нейротизм эмоциональный нестабильность набрать из сангвиник этоличность характеризоваться высокий психический активность энергичность работоспособность быстрота и живость движение разнообразие и богатство мимика быстрый темп речь сангвиникстремиться к частый смена впечатление легко и быстро отзываться на окружающий событие общительный как по я так мой темперамент определнный таков узнавать свой по ссылка и делиться в комментарий два основной методика исследование темперамент формула темперамент побелов один изклассический тест натип темперамент методика нетолько показывать какой тип темперамент преобладать ной демонстрировать процентный соотношение весь четыре тип холерик сангвиник флегматик меланхолик вваш характер тест основать на классический методика айзёнка но с современный вопрос и показывать не только абсолютный результат флегматик меланхолик сангвиник или холерик но и выводить он на шкала координата это помогать понять насколько сильно человек склонный к тот или иной тип темперамент а также интроверт он или экстраверт ещ по совет татьяна начало вести дневник чемпион это дневник в который ты записывать несколько полезный или приятный дело достижение который успеть сделать за день такой дневник формировать уверенность в себя и любовь к себя знакомый с такой практика ведт и вообще заниматься ли свой психологический развитие с татьяна или другой психолог мочь самостоятельно делиться вирус счастие с татьяна мифтахов бизнеспсихолог топтрекер мса достижение успех через выстраивание личность канал о бизнес отношение ребёнок как найти гармония быть и успешный и счастливый в семья и бизнес вопрос и обмен мнение в чат'"
      ]
     },
     "execution_count": 3,
     "metadata": {},
     "output_type": "execute_result"
    }
   ],
   "source": [
    "lines[0]"
   ]
  },
  {
   "cell_type": "code",
   "execution_count": 4,
   "id": "e265a30c",
   "metadata": {},
   "outputs": [],
   "source": [
    "rep = {\"личный рост\": \"личный_рост\",\n",
    "       \"профессиональный рост\": \"профессиональный_рост\",\n",
    "       \"личностный рост\": \"личностный_рост\",\n",
    "       \"развитие себя\" : \"развитие_себя\",\n",
    "       \"улучшение себя\" : \"улучшение_себя\",\n",
    "       \"профессиональное развитие\" : \"профессиональное_развитие\",\n",
    "       \"личностное развитие\" : \"личностное_развитие\",\n",
    "       \"карьерный рост\" : \"карьерный_рост\",\n",
    "       \"карьерное развитие\" : \"карьерное_развитие\",\n",
    "       \"развитие карьеры\" : \"развитие_карьеры\",\n",
    "       \"работа над собой\" : \"работа_над_собой\",\n",
    "       \"работа с собой\": \"работа_с_собой\"} # cooloc to glue\n",
    "\n",
    "rep = dict((re.escape(k), v) for k, v in rep.items()) \n",
    "pattern = re.compile(\"|\".join(rep.keys()))\n",
    "def substring_change(text):\n",
    "    text = pattern.sub(lambda m: rep[re.escape(m.group(0))], text)\n",
    "    with open(r'norm_text_colloc.txt', 'a') as fp:\n",
    "        fp.write(text)\n",
    "        fp.write('\\n')\n",
    "    return text "
   ]
  },
  {
   "cell_type": "code",
   "execution_count": 5,
   "id": "845e54a8",
   "metadata": {},
   "outputs": [
    {
     "name": "stderr",
     "output_type": "stream",
     "text": [
      "100%|██████████| 474835/474835 [02:20<00:00, 3386.99it/s]\n"
     ]
    }
   ],
   "source": [
    "for line in tqdm(lines):\n",
    "    substring_change(line)"
   ]
  },
  {
   "cell_type": "code",
   "execution_count": null,
   "id": "31f15ee1",
   "metadata": {},
   "outputs": [],
   "source": []
  }
 ],
 "metadata": {
  "kernelspec": {
   "display_name": "Python 3 (ipykernel)",
   "language": "python",
   "name": "python3"
  },
  "language_info": {
   "codemirror_mode": {
    "name": "ipython",
    "version": 3
   },
   "file_extension": ".py",
   "mimetype": "text/x-python",
   "name": "python",
   "nbconvert_exporter": "python",
   "pygments_lexer": "ipython3",
   "version": "3.10.9"
  }
 },
 "nbformat": 4,
 "nbformat_minor": 5
}
