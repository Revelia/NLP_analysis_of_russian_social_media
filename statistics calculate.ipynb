{
 "cells": [
  {
   "cell_type": "code",
   "execution_count": 2,
   "id": "7bc89b51",
   "metadata": {},
   "outputs": [],
   "source": [
    "import pandas as pd\n",
    "import numpy as np\n",
    "import gensim\n",
    "model = gensim.models.Word2Vec.load(\"data//models//w2v_model_w9m30.model\")"
   ]
  },
  {
   "cell_type": "code",
   "execution_count": 5,
   "id": "202835c3",
   "metadata": {},
   "outputs": [],
   "source": [
    "def most_sim(word, topn):\n",
    "    sim_list = model.wv.most_similar(positive = word, negative = [], topn=topn)\n",
    "    len_list = list(map(len, [i[0] for i in sim_list]))\n",
    "    len_max = max(len_list)\n",
    "    for ix, word in enumerate(sim_list):\n",
    "        count = model.wv.get_vecattr(word[0], \"count\")\n",
    "        space = ' '*(len_max - len(word[0]) + 4)\n",
    "        print(f\"('{word[0]}', {str(word[1])[0:10]}),{space}count = {count}\")\n",
    "    len_max"
   ]
  },
  {
   "cell_type": "code",
   "execution_count": 6,
   "id": "37499065",
   "metadata": {},
   "outputs": [
    {
     "name": "stdout",
     "output_type": "stream",
     "text": [
      "('чутьё', 0.48074173),               count = 340\n",
      "('ясновидение', 0.47376361),         count = 1184\n",
      "('экстрасенсорный', 0.45804941),     count = 638\n",
      "('интуитивный', 0.45753526),         count = 2084\n",
      "('прислушиваться', 0.45693892),      count = 3665\n",
      "('проницательность', 0.44733709),    count = 320\n",
      "('вещий', 0.44039678),               count = 370\n",
      "('предвидение', 0.43397447),         count = 214\n",
      "('чувствительность', 0.43318748),    count = 2394\n",
      "('чувствование', 0.43089050),        count = 1247\n",
      "('яснознание', 0.42417365),          count = 290\n",
      "('довериться', 0.41121897),          count = 2772\n",
      "('доверять', 0.40909326),            count = 10014\n",
      "('развить', 0.40791428),             count = 10185\n",
      "('озарение', 0.40514966),            count = 1862\n",
      "('интуитивно', 0.39888742),          count = 1713\n",
      "('чуйка', 0.39785555),               count = 121\n",
      "('способность', 0.39080318),         count = 38387\n",
      "('божественный', 0.39008265),        count = 4517\n",
      "('жрица', 0.38296410),               count = 939\n",
      "('обострённый', 0.37983980),         count = 155\n",
      "('паранормальный', 0.37766110),      count = 143\n",
      "('восприимчивость', 0.37494251),     count = 375\n",
      "('интуитивность', 0.37255698),       count = 71\n",
      "('считывать', 0.36866781),           count = 1153\n",
      "('подсказка', 0.36604142),           count = 4917\n",
      "('экстрасенсорика', 0.36566343),     count = 319\n",
      "('прислушаться', 0.36476373),        count = 2312\n"
     ]
    }
   ],
   "source": [
    "most_sim(['интуиция'], 28)"
   ]
  },
  {
   "cell_type": "code",
   "execution_count": null,
   "id": "095e355d",
   "metadata": {},
   "outputs": [],
   "source": []
  }
 ],
 "metadata": {
  "kernelspec": {
   "display_name": "Python 3 (ipykernel)",
   "language": "python",
   "name": "python3"
  },
  "language_info": {
   "codemirror_mode": {
    "name": "ipython",
    "version": 3
   },
   "file_extension": ".py",
   "mimetype": "text/x-python",
   "name": "python",
   "nbconvert_exporter": "python",
   "pygments_lexer": "ipython3",
   "version": "3.10.9"
  }
 },
 "nbformat": 4,
 "nbformat_minor": 5
}
